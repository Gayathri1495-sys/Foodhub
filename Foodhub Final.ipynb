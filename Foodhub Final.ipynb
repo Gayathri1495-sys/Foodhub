{
 "cells": [
  {
   "cell_type": "markdown",
   "id": "28b8f1c9",
   "metadata": {},
   "source": [
    "## 1. Create a CSV containing an aggregate table showing the total orders and revenue each store had each month. It should have the following columns:\n",
    "    \n",
    "Year (Eg: 2020)\n",
    "Month (Eg: January)\n",
    "Store Name\n",
    "Number of Orders\n",
    "Total Revenue"
   ]
  },
  {
   "cell_type": "code",
   "execution_count": 1,
   "id": "43a29f3c",
   "metadata": {},
   "outputs": [],
   "source": [
    "import warnings\n",
    "warnings.filterwarnings('ignore')"
   ]
  },
  {
   "cell_type": "code",
   "execution_count": 2,
   "id": "8d4ee2b3",
   "metadata": {},
   "outputs": [],
   "source": [
    "import pandas as pd\n",
    "import numpy as np\n",
    "import datetime\n",
    "import calendar\n"
   ]
  },
  {
   "cell_type": "code",
   "execution_count": 3,
   "id": "1d99d454",
   "metadata": {},
   "outputs": [],
   "source": [
    "order = pd.read_csv('orders_test (2).csv')\n",
    "store = pd.read_csv('store_test (2).csv')"
   ]
  },
  {
   "cell_type": "code",
   "execution_count": 4,
   "id": "bbd0230a",
   "metadata": {},
   "outputs": [
    {
     "data": {
      "text/plain": [
       "(0, 0)"
      ]
     },
     "execution_count": 4,
     "metadata": {},
     "output_type": "execute_result"
    }
   ],
   "source": [
    "order.duplicated().sum(), store.duplicated().sum()"
   ]
  },
  {
   "cell_type": "code",
   "execution_count": 5,
   "id": "fdfedd7f",
   "metadata": {},
   "outputs": [
    {
     "data": {
      "text/html": [
       "<div>\n",
       "<style scoped>\n",
       "    .dataframe tbody tr th:only-of-type {\n",
       "        vertical-align: middle;\n",
       "    }\n",
       "\n",
       "    .dataframe tbody tr th {\n",
       "        vertical-align: top;\n",
       "    }\n",
       "\n",
       "    .dataframe thead th {\n",
       "        text-align: right;\n",
       "    }\n",
       "</style>\n",
       "<table border=\"1\" class=\"dataframe\">\n",
       "  <thead>\n",
       "    <tr style=\"text-align: right;\">\n",
       "      <th></th>\n",
       "      <th>id</th>\n",
       "      <th>total</th>\n",
       "      <th>customer_id</th>\n",
       "      <th>store_id</th>\n",
       "      <th>order_date</th>\n",
       "    </tr>\n",
       "  </thead>\n",
       "  <tbody>\n",
       "    <tr>\n",
       "      <th>0</th>\n",
       "      <td>1</td>\n",
       "      <td>19.36</td>\n",
       "      <td>21</td>\n",
       "      <td>1</td>\n",
       "      <td>2020-03-03</td>\n",
       "    </tr>\n",
       "    <tr>\n",
       "      <th>1</th>\n",
       "      <td>2</td>\n",
       "      <td>8.85</td>\n",
       "      <td>88</td>\n",
       "      <td>8</td>\n",
       "      <td>2020-04-02</td>\n",
       "    </tr>\n",
       "  </tbody>\n",
       "</table>\n",
       "</div>"
      ],
      "text/plain": [
       "   id  total  customer_id  store_id  order_date\n",
       "0   1  19.36           21         1  2020-03-03\n",
       "1   2   8.85           88         8  2020-04-02"
      ]
     },
     "execution_count": 5,
     "metadata": {},
     "output_type": "execute_result"
    }
   ],
   "source": [
    "order.head(2)"
   ]
  },
  {
   "cell_type": "code",
   "execution_count": 6,
   "id": "ea59e793",
   "metadata": {},
   "outputs": [
    {
     "data": {
      "text/html": [
       "<div>\n",
       "<style scoped>\n",
       "    .dataframe tbody tr th:only-of-type {\n",
       "        vertical-align: middle;\n",
       "    }\n",
       "\n",
       "    .dataframe tbody tr th {\n",
       "        vertical-align: top;\n",
       "    }\n",
       "\n",
       "    .dataframe thead th {\n",
       "        text-align: right;\n",
       "    }\n",
       "</style>\n",
       "<table border=\"1\" class=\"dataframe\">\n",
       "  <thead>\n",
       "    <tr style=\"text-align: right;\">\n",
       "      <th></th>\n",
       "      <th>id</th>\n",
       "      <th>total</th>\n",
       "      <th>customer_id</th>\n",
       "      <th>store_id</th>\n",
       "    </tr>\n",
       "  </thead>\n",
       "  <tbody>\n",
       "    <tr>\n",
       "      <th>count</th>\n",
       "      <td>1000.000000</td>\n",
       "      <td>1000.000000</td>\n",
       "      <td>1000.000000</td>\n",
       "      <td>1000.00000</td>\n",
       "    </tr>\n",
       "    <tr>\n",
       "      <th>mean</th>\n",
       "      <td>500.500000</td>\n",
       "      <td>15.193990</td>\n",
       "      <td>50.902000</td>\n",
       "      <td>5.38900</td>\n",
       "    </tr>\n",
       "    <tr>\n",
       "      <th>std</th>\n",
       "      <td>288.819436</td>\n",
       "      <td>8.420347</td>\n",
       "      <td>28.909517</td>\n",
       "      <td>2.91585</td>\n",
       "    </tr>\n",
       "    <tr>\n",
       "      <th>min</th>\n",
       "      <td>1.000000</td>\n",
       "      <td>0.220000</td>\n",
       "      <td>1.000000</td>\n",
       "      <td>1.00000</td>\n",
       "    </tr>\n",
       "    <tr>\n",
       "      <th>25%</th>\n",
       "      <td>250.750000</td>\n",
       "      <td>7.860000</td>\n",
       "      <td>26.000000</td>\n",
       "      <td>3.00000</td>\n",
       "    </tr>\n",
       "    <tr>\n",
       "      <th>50%</th>\n",
       "      <td>500.500000</td>\n",
       "      <td>15.680000</td>\n",
       "      <td>50.000000</td>\n",
       "      <td>5.00000</td>\n",
       "    </tr>\n",
       "    <tr>\n",
       "      <th>75%</th>\n",
       "      <td>750.250000</td>\n",
       "      <td>22.045000</td>\n",
       "      <td>77.000000</td>\n",
       "      <td>8.00000</td>\n",
       "    </tr>\n",
       "    <tr>\n",
       "      <th>max</th>\n",
       "      <td>1000.000000</td>\n",
       "      <td>29.970000</td>\n",
       "      <td>100.000000</td>\n",
       "      <td>10.00000</td>\n",
       "    </tr>\n",
       "  </tbody>\n",
       "</table>\n",
       "</div>"
      ],
      "text/plain": [
       "                id        total  customer_id    store_id\n",
       "count  1000.000000  1000.000000  1000.000000  1000.00000\n",
       "mean    500.500000    15.193990    50.902000     5.38900\n",
       "std     288.819436     8.420347    28.909517     2.91585\n",
       "min       1.000000     0.220000     1.000000     1.00000\n",
       "25%     250.750000     7.860000    26.000000     3.00000\n",
       "50%     500.500000    15.680000    50.000000     5.00000\n",
       "75%     750.250000    22.045000    77.000000     8.00000\n",
       "max    1000.000000    29.970000   100.000000    10.00000"
      ]
     },
     "execution_count": 6,
     "metadata": {},
     "output_type": "execute_result"
    }
   ],
   "source": [
    "order.describe()"
   ]
  },
  {
   "cell_type": "code",
   "execution_count": 7,
   "id": "b1cf514e",
   "metadata": {},
   "outputs": [
    {
     "data": {
      "text/html": [
       "<div>\n",
       "<style scoped>\n",
       "    .dataframe tbody tr th:only-of-type {\n",
       "        vertical-align: middle;\n",
       "    }\n",
       "\n",
       "    .dataframe tbody tr th {\n",
       "        vertical-align: top;\n",
       "    }\n",
       "\n",
       "    .dataframe thead th {\n",
       "        text-align: right;\n",
       "    }\n",
       "</style>\n",
       "<table border=\"1\" class=\"dataframe\">\n",
       "  <thead>\n",
       "    <tr style=\"text-align: right;\">\n",
       "      <th></th>\n",
       "      <th>id</th>\n",
       "      <th>name</th>\n",
       "      <th>address</th>\n",
       "    </tr>\n",
       "  </thead>\n",
       "  <tbody>\n",
       "    <tr>\n",
       "      <th>0</th>\n",
       "      <td>1</td>\n",
       "      <td>Valdez Inc</td>\n",
       "      <td>18321 Joseph Lodge\\nChristineland, NH 69026</td>\n",
       "    </tr>\n",
       "    <tr>\n",
       "      <th>1</th>\n",
       "      <td>2</td>\n",
       "      <td>Stevens-Barr</td>\n",
       "      <td>Unit 0902 Box 4445\\nDPO AE 19637</td>\n",
       "    </tr>\n",
       "  </tbody>\n",
       "</table>\n",
       "</div>"
      ],
      "text/plain": [
       "   id          name                                      address\n",
       "0   1    Valdez Inc  18321 Joseph Lodge\\nChristineland, NH 69026\n",
       "1   2  Stevens-Barr             Unit 0902 Box 4445\\nDPO AE 19637"
      ]
     },
     "execution_count": 7,
     "metadata": {},
     "output_type": "execute_result"
    }
   ],
   "source": [
    "store.head(2)"
   ]
  },
  {
   "cell_type": "code",
   "execution_count": 8,
   "id": "b259e59c",
   "metadata": {},
   "outputs": [
    {
     "data": {
      "text/html": [
       "<div>\n",
       "<style scoped>\n",
       "    .dataframe tbody tr th:only-of-type {\n",
       "        vertical-align: middle;\n",
       "    }\n",
       "\n",
       "    .dataframe tbody tr th {\n",
       "        vertical-align: top;\n",
       "    }\n",
       "\n",
       "    .dataframe thead th {\n",
       "        text-align: right;\n",
       "    }\n",
       "</style>\n",
       "<table border=\"1\" class=\"dataframe\">\n",
       "  <thead>\n",
       "    <tr style=\"text-align: right;\">\n",
       "      <th></th>\n",
       "      <th>id</th>\n",
       "    </tr>\n",
       "  </thead>\n",
       "  <tbody>\n",
       "    <tr>\n",
       "      <th>count</th>\n",
       "      <td>10.00000</td>\n",
       "    </tr>\n",
       "    <tr>\n",
       "      <th>mean</th>\n",
       "      <td>5.50000</td>\n",
       "    </tr>\n",
       "    <tr>\n",
       "      <th>std</th>\n",
       "      <td>3.02765</td>\n",
       "    </tr>\n",
       "    <tr>\n",
       "      <th>min</th>\n",
       "      <td>1.00000</td>\n",
       "    </tr>\n",
       "    <tr>\n",
       "      <th>25%</th>\n",
       "      <td>3.25000</td>\n",
       "    </tr>\n",
       "    <tr>\n",
       "      <th>50%</th>\n",
       "      <td>5.50000</td>\n",
       "    </tr>\n",
       "    <tr>\n",
       "      <th>75%</th>\n",
       "      <td>7.75000</td>\n",
       "    </tr>\n",
       "    <tr>\n",
       "      <th>max</th>\n",
       "      <td>10.00000</td>\n",
       "    </tr>\n",
       "  </tbody>\n",
       "</table>\n",
       "</div>"
      ],
      "text/plain": [
       "             id\n",
       "count  10.00000\n",
       "mean    5.50000\n",
       "std     3.02765\n",
       "min     1.00000\n",
       "25%     3.25000\n",
       "50%     5.50000\n",
       "75%     7.75000\n",
       "max    10.00000"
      ]
     },
     "execution_count": 8,
     "metadata": {},
     "output_type": "execute_result"
    }
   ],
   "source": [
    "store.describe()"
   ]
  },
  {
   "cell_type": "code",
   "execution_count": 9,
   "id": "fd48990c",
   "metadata": {},
   "outputs": [],
   "source": [
    "store =store.rename(columns={\"id\": \"store_id\"})"
   ]
  },
  {
   "cell_type": "code",
   "execution_count": 10,
   "id": "718bc5af",
   "metadata": {},
   "outputs": [],
   "source": [
    "order_1 = pd.merge(order,store,on='store_id', how='left')"
   ]
  },
  {
   "cell_type": "code",
   "execution_count": 11,
   "id": "d4f4e7c5",
   "metadata": {},
   "outputs": [
    {
     "data": {
      "text/html": [
       "<div>\n",
       "<style scoped>\n",
       "    .dataframe tbody tr th:only-of-type {\n",
       "        vertical-align: middle;\n",
       "    }\n",
       "\n",
       "    .dataframe tbody tr th {\n",
       "        vertical-align: top;\n",
       "    }\n",
       "\n",
       "    .dataframe thead th {\n",
       "        text-align: right;\n",
       "    }\n",
       "</style>\n",
       "<table border=\"1\" class=\"dataframe\">\n",
       "  <thead>\n",
       "    <tr style=\"text-align: right;\">\n",
       "      <th></th>\n",
       "      <th>id</th>\n",
       "      <th>total</th>\n",
       "      <th>customer_id</th>\n",
       "      <th>store_id</th>\n",
       "      <th>order_date</th>\n",
       "      <th>name</th>\n",
       "      <th>address</th>\n",
       "    </tr>\n",
       "  </thead>\n",
       "  <tbody>\n",
       "    <tr>\n",
       "      <th>0</th>\n",
       "      <td>1</td>\n",
       "      <td>19.36</td>\n",
       "      <td>21</td>\n",
       "      <td>1</td>\n",
       "      <td>2020-03-03</td>\n",
       "      <td>Valdez Inc</td>\n",
       "      <td>18321 Joseph Lodge\\nChristineland, NH 69026</td>\n",
       "    </tr>\n",
       "    <tr>\n",
       "      <th>1</th>\n",
       "      <td>2</td>\n",
       "      <td>8.85</td>\n",
       "      <td>88</td>\n",
       "      <td>8</td>\n",
       "      <td>2020-04-02</td>\n",
       "      <td>Martinez, Marsh and Gomez</td>\n",
       "      <td>1434 Shelby Streets Apt. 134\\nWest Austin, SD ...</td>\n",
       "    </tr>\n",
       "    <tr>\n",
       "      <th>2</th>\n",
       "      <td>3</td>\n",
       "      <td>5.53</td>\n",
       "      <td>41</td>\n",
       "      <td>3</td>\n",
       "      <td>2020-03-03</td>\n",
       "      <td>Taylor Ltd</td>\n",
       "      <td>3433 Hill Forest\\nCharlesmouth, KY 16037</td>\n",
       "    </tr>\n",
       "    <tr>\n",
       "      <th>3</th>\n",
       "      <td>4</td>\n",
       "      <td>12.90</td>\n",
       "      <td>96</td>\n",
       "      <td>8</td>\n",
       "      <td>2020-03-15</td>\n",
       "      <td>Martinez, Marsh and Gomez</td>\n",
       "      <td>1434 Shelby Streets Apt. 134\\nWest Austin, SD ...</td>\n",
       "    </tr>\n",
       "    <tr>\n",
       "      <th>4</th>\n",
       "      <td>5</td>\n",
       "      <td>8.19</td>\n",
       "      <td>25</td>\n",
       "      <td>7</td>\n",
       "      <td>2020-01-21</td>\n",
       "      <td>Hall Inc</td>\n",
       "      <td>23446 Brittney Isle Apt. 423\\nSouth Victoriabe...</td>\n",
       "    </tr>\n",
       "  </tbody>\n",
       "</table>\n",
       "</div>"
      ],
      "text/plain": [
       "   id  total  customer_id  store_id  order_date                       name  \\\n",
       "0   1  19.36           21         1  2020-03-03                 Valdez Inc   \n",
       "1   2   8.85           88         8  2020-04-02  Martinez, Marsh and Gomez   \n",
       "2   3   5.53           41         3  2020-03-03                 Taylor Ltd   \n",
       "3   4  12.90           96         8  2020-03-15  Martinez, Marsh and Gomez   \n",
       "4   5   8.19           25         7  2020-01-21                   Hall Inc   \n",
       "\n",
       "                                             address  \n",
       "0        18321 Joseph Lodge\\nChristineland, NH 69026  \n",
       "1  1434 Shelby Streets Apt. 134\\nWest Austin, SD ...  \n",
       "2           3433 Hill Forest\\nCharlesmouth, KY 16037  \n",
       "3  1434 Shelby Streets Apt. 134\\nWest Austin, SD ...  \n",
       "4  23446 Brittney Isle Apt. 423\\nSouth Victoriabe...  "
      ]
     },
     "execution_count": 11,
     "metadata": {},
     "output_type": "execute_result"
    }
   ],
   "source": [
    "order_1.head()"
   ]
  },
  {
   "cell_type": "code",
   "execution_count": 12,
   "id": "e6f61b9e",
   "metadata": {},
   "outputs": [],
   "source": [
    "order_1.index = pd.to_datetime(order_1['order_date'])"
   ]
  },
  {
   "cell_type": "code",
   "execution_count": 13,
   "id": "943ed172",
   "metadata": {},
   "outputs": [],
   "source": [
    "total_orders = order_1.groupby(by=[order_1.index.month, order_1.index.year,order_1.name])['total'].agg(['sum','count'])"
   ]
  },
  {
   "cell_type": "code",
   "execution_count": 14,
   "id": "482d5282",
   "metadata": {},
   "outputs": [],
   "source": [
    "total_orders_df = pd.DataFrame(total_orders)\n",
    "total_orders_df.index.names = ['Month','Year','Store name']\n",
    "total_orders_df.reset_index(inplace=True)"
   ]
  },
  {
   "cell_type": "code",
   "execution_count": 15,
   "id": "b6d5a687",
   "metadata": {},
   "outputs": [],
   "source": [
    "total_orders_df = total_orders_df[['Year','Month','Store name','count','sum']]\n",
    "total_orders_df = total_orders_df.rename(columns={\"Store name\": \"Store Name\", \"count\": \"Number of Orders\", \"sum\":\"Total Revenue\"})"
   ]
  },
  {
   "cell_type": "code",
   "execution_count": 16,
   "id": "23b7f83a",
   "metadata": {},
   "outputs": [],
   "source": [
    "total_orders_df['Month'] = total_orders_df['Month'].apply(lambda x: calendar.month_name[x])"
   ]
  },
  {
   "cell_type": "code",
   "execution_count": 17,
   "id": "7804a9dc",
   "metadata": {},
   "outputs": [
    {
     "data": {
      "text/html": [
       "<div>\n",
       "<style scoped>\n",
       "    .dataframe tbody tr th:only-of-type {\n",
       "        vertical-align: middle;\n",
       "    }\n",
       "\n",
       "    .dataframe tbody tr th {\n",
       "        vertical-align: top;\n",
       "    }\n",
       "\n",
       "    .dataframe thead th {\n",
       "        text-align: right;\n",
       "    }\n",
       "</style>\n",
       "<table border=\"1\" class=\"dataframe\">\n",
       "  <thead>\n",
       "    <tr style=\"text-align: right;\">\n",
       "      <th></th>\n",
       "      <th>Year</th>\n",
       "      <th>Month</th>\n",
       "      <th>Store Name</th>\n",
       "      <th>Number of Orders</th>\n",
       "      <th>Total Revenue</th>\n",
       "    </tr>\n",
       "  </thead>\n",
       "  <tbody>\n",
       "    <tr>\n",
       "      <th>0</th>\n",
       "      <td>2020</td>\n",
       "      <td>January</td>\n",
       "      <td>Adams, Barrett and Thomas</td>\n",
       "      <td>27</td>\n",
       "      <td>315.79</td>\n",
       "    </tr>\n",
       "    <tr>\n",
       "      <th>1</th>\n",
       "      <td>2020</td>\n",
       "      <td>January</td>\n",
       "      <td>Edwards-Mcdaniel</td>\n",
       "      <td>18</td>\n",
       "      <td>280.72</td>\n",
       "    </tr>\n",
       "    <tr>\n",
       "      <th>2</th>\n",
       "      <td>2020</td>\n",
       "      <td>January</td>\n",
       "      <td>Hall Inc</td>\n",
       "      <td>21</td>\n",
       "      <td>348.17</td>\n",
       "    </tr>\n",
       "    <tr>\n",
       "      <th>3</th>\n",
       "      <td>2020</td>\n",
       "      <td>January</td>\n",
       "      <td>Henderson, Olson and Ward</td>\n",
       "      <td>23</td>\n",
       "      <td>282.65</td>\n",
       "    </tr>\n",
       "    <tr>\n",
       "      <th>4</th>\n",
       "      <td>2020</td>\n",
       "      <td>January</td>\n",
       "      <td>Martinez, Marsh and Gomez</td>\n",
       "      <td>17</td>\n",
       "      <td>222.38</td>\n",
       "    </tr>\n",
       "  </tbody>\n",
       "</table>\n",
       "</div>"
      ],
      "text/plain": [
       "   Year    Month                 Store Name  Number of Orders  Total Revenue\n",
       "0  2020  January  Adams, Barrett and Thomas                27         315.79\n",
       "1  2020  January           Edwards-Mcdaniel                18         280.72\n",
       "2  2020  January                   Hall Inc                21         348.17\n",
       "3  2020  January  Henderson, Olson and Ward                23         282.65\n",
       "4  2020  January  Martinez, Marsh and Gomez                17         222.38"
      ]
     },
     "execution_count": 17,
     "metadata": {},
     "output_type": "execute_result"
    }
   ],
   "source": [
    "total_orders_df.head()"
   ]
  },
  {
   "cell_type": "code",
   "execution_count": 35,
   "id": "63bb4cf1",
   "metadata": {},
   "outputs": [],
   "source": [
    "total_orders_df.to_csv('Store Revenue.xlsx',index=False)"
   ]
  },
  {
   "cell_type": "markdown",
   "id": "2a7c85c6",
   "metadata": {},
   "source": [
    "## 2. Create a CSV containing a list of users who have placed less than 10 orders. It should have the following columns:\n",
    "    \n",
    "First Name\n",
    "Last Name\n",
    "Email\n",
    "Orders Placed by user"
   ]
  },
  {
   "cell_type": "code",
   "execution_count": 19,
   "id": "60f0ed14",
   "metadata": {},
   "outputs": [],
   "source": [
    "import hashlib"
   ]
  },
  {
   "cell_type": "code",
   "execution_count": 20,
   "id": "582796f1",
   "metadata": {},
   "outputs": [],
   "source": [
    "customer = pd.read_csv('customer_test (2).csv')"
   ]
  },
  {
   "cell_type": "code",
   "execution_count": 21,
   "id": "f5494582",
   "metadata": {},
   "outputs": [
    {
     "data": {
      "text/html": [
       "<div>\n",
       "<style scoped>\n",
       "    .dataframe tbody tr th:only-of-type {\n",
       "        vertical-align: middle;\n",
       "    }\n",
       "\n",
       "    .dataframe tbody tr th {\n",
       "        vertical-align: top;\n",
       "    }\n",
       "\n",
       "    .dataframe thead th {\n",
       "        text-align: right;\n",
       "    }\n",
       "</style>\n",
       "<table border=\"1\" class=\"dataframe\">\n",
       "  <thead>\n",
       "    <tr style=\"text-align: right;\">\n",
       "      <th></th>\n",
       "      <th>id</th>\n",
       "      <th>first_name</th>\n",
       "      <th>last_name</th>\n",
       "      <th>email</th>\n",
       "    </tr>\n",
       "  </thead>\n",
       "  <tbody>\n",
       "    <tr>\n",
       "      <th>0</th>\n",
       "      <td>1</td>\n",
       "      <td>Sara</td>\n",
       "      <td>Ramirez</td>\n",
       "      <td>samantha67@yahoo.com</td>\n",
       "    </tr>\n",
       "    <tr>\n",
       "      <th>1</th>\n",
       "      <td>2</td>\n",
       "      <td>Joshua</td>\n",
       "      <td>Jimenez</td>\n",
       "      <td>richardtimothy@hotmail.com</td>\n",
       "    </tr>\n",
       "  </tbody>\n",
       "</table>\n",
       "</div>"
      ],
      "text/plain": [
       "   id first_name last_name                       email\n",
       "0   1       Sara   Ramirez        samantha67@yahoo.com\n",
       "1   2     Joshua   Jimenez  richardtimothy@hotmail.com"
      ]
     },
     "execution_count": 21,
     "metadata": {},
     "output_type": "execute_result"
    }
   ],
   "source": [
    "customer.head(2)"
   ]
  },
  {
   "cell_type": "code",
   "execution_count": 22,
   "id": "fb055722",
   "metadata": {},
   "outputs": [
    {
     "data": {
      "text/plain": [
       "0"
      ]
     },
     "execution_count": 22,
     "metadata": {},
     "output_type": "execute_result"
    }
   ],
   "source": [
    "customer.duplicated().sum()"
   ]
  },
  {
   "cell_type": "code",
   "execution_count": 23,
   "id": "ea04b456",
   "metadata": {},
   "outputs": [],
   "source": [
    "customer = customer.rename(columns={\"id\": \"customer_id\"})"
   ]
  },
  {
   "cell_type": "code",
   "execution_count": 24,
   "id": "9ed55d84",
   "metadata": {},
   "outputs": [],
   "source": [
    "order_cus = pd.merge(order,customer,on='customer_id', how='left')"
   ]
  },
  {
   "cell_type": "code",
   "execution_count": 25,
   "id": "616ab92f",
   "metadata": {},
   "outputs": [
    {
     "data": {
      "text/html": [
       "<div>\n",
       "<style scoped>\n",
       "    .dataframe tbody tr th:only-of-type {\n",
       "        vertical-align: middle;\n",
       "    }\n",
       "\n",
       "    .dataframe tbody tr th {\n",
       "        vertical-align: top;\n",
       "    }\n",
       "\n",
       "    .dataframe thead th {\n",
       "        text-align: right;\n",
       "    }\n",
       "</style>\n",
       "<table border=\"1\" class=\"dataframe\">\n",
       "  <thead>\n",
       "    <tr style=\"text-align: right;\">\n",
       "      <th></th>\n",
       "      <th>id</th>\n",
       "      <th>total</th>\n",
       "      <th>customer_id</th>\n",
       "      <th>store_id</th>\n",
       "      <th>order_date</th>\n",
       "      <th>first_name</th>\n",
       "      <th>last_name</th>\n",
       "      <th>email</th>\n",
       "    </tr>\n",
       "  </thead>\n",
       "  <tbody>\n",
       "    <tr>\n",
       "      <th>0</th>\n",
       "      <td>1</td>\n",
       "      <td>19.36</td>\n",
       "      <td>21</td>\n",
       "      <td>1</td>\n",
       "      <td>2020-03-03</td>\n",
       "      <td>Alexis</td>\n",
       "      <td>Ferguson</td>\n",
       "      <td>hayesdavid@yahoo.com</td>\n",
       "    </tr>\n",
       "    <tr>\n",
       "      <th>1</th>\n",
       "      <td>2</td>\n",
       "      <td>8.85</td>\n",
       "      <td>88</td>\n",
       "      <td>8</td>\n",
       "      <td>2020-04-02</td>\n",
       "      <td>Christopher</td>\n",
       "      <td>Diaz</td>\n",
       "      <td>christinemcguire@yahoo.com</td>\n",
       "    </tr>\n",
       "    <tr>\n",
       "      <th>2</th>\n",
       "      <td>3</td>\n",
       "      <td>5.53</td>\n",
       "      <td>41</td>\n",
       "      <td>3</td>\n",
       "      <td>2020-03-03</td>\n",
       "      <td>Rebecca</td>\n",
       "      <td>Little</td>\n",
       "      <td>cynthiaoliver@gmail.com</td>\n",
       "    </tr>\n",
       "    <tr>\n",
       "      <th>3</th>\n",
       "      <td>4</td>\n",
       "      <td>12.90</td>\n",
       "      <td>96</td>\n",
       "      <td>8</td>\n",
       "      <td>2020-03-15</td>\n",
       "      <td>Leah</td>\n",
       "      <td>Sandoval</td>\n",
       "      <td>michael53@dominguez-blackwell.com</td>\n",
       "    </tr>\n",
       "    <tr>\n",
       "      <th>4</th>\n",
       "      <td>5</td>\n",
       "      <td>8.19</td>\n",
       "      <td>25</td>\n",
       "      <td>7</td>\n",
       "      <td>2020-01-21</td>\n",
       "      <td>Richard</td>\n",
       "      <td>Peterson</td>\n",
       "      <td>nancy53@hotmail.com</td>\n",
       "    </tr>\n",
       "  </tbody>\n",
       "</table>\n",
       "</div>"
      ],
      "text/plain": [
       "   id  total  customer_id  store_id  order_date   first_name last_name  \\\n",
       "0   1  19.36           21         1  2020-03-03       Alexis  Ferguson   \n",
       "1   2   8.85           88         8  2020-04-02  Christopher      Diaz   \n",
       "2   3   5.53           41         3  2020-03-03      Rebecca    Little   \n",
       "3   4  12.90           96         8  2020-03-15         Leah  Sandoval   \n",
       "4   5   8.19           25         7  2020-01-21      Richard  Peterson   \n",
       "\n",
       "                               email  \n",
       "0               hayesdavid@yahoo.com  \n",
       "1         christinemcguire@yahoo.com  \n",
       "2            cynthiaoliver@gmail.com  \n",
       "3  michael53@dominguez-blackwell.com  \n",
       "4                nancy53@hotmail.com  "
      ]
     },
     "execution_count": 25,
     "metadata": {},
     "output_type": "execute_result"
    }
   ],
   "source": [
    "order_cus.head()"
   ]
  },
  {
   "cell_type": "code",
   "execution_count": 26,
   "id": "2e241342",
   "metadata": {},
   "outputs": [],
   "source": [
    "order_placed = order_cus.groupby(['email','first_name','last_name'])['store_id'].count()"
   ]
  },
  {
   "cell_type": "code",
   "execution_count": 27,
   "id": "bf99f25f",
   "metadata": {},
   "outputs": [],
   "source": [
    "order_placed_df = pd.DataFrame(order_placed)\n",
    "order_placed_df.index.names = ['Email','First Name','Last Name']\n",
    "order_placed_df.reset_index(inplace=True)"
   ]
  },
  {
   "cell_type": "code",
   "execution_count": 28,
   "id": "7ce1c484",
   "metadata": {},
   "outputs": [],
   "source": [
    "order_placed_df = order_placed_df.rename(columns={\"store_id\": \"No. of orders Placed by user\"})\n",
    "order_placed_df = order_placed_df[['First Name','Last Name','Email','No. of orders Placed by user']]"
   ]
  },
  {
   "cell_type": "code",
   "execution_count": 29,
   "id": "eead7067",
   "metadata": {},
   "outputs": [],
   "source": [
    "order_placed_df = order_placed_df[order_placed_df['No. of orders Placed by user'] < 10]"
   ]
  },
  {
   "cell_type": "code",
   "execution_count": 30,
   "id": "6d792801",
   "metadata": {},
   "outputs": [],
   "source": [
    "order_placed_df.reset_index(drop=True, inplace=True)"
   ]
  },
  {
   "cell_type": "code",
   "execution_count": 31,
   "id": "641d1a4d",
   "metadata": {},
   "outputs": [
    {
     "data": {
      "text/html": [
       "<div>\n",
       "<style scoped>\n",
       "    .dataframe tbody tr th:only-of-type {\n",
       "        vertical-align: middle;\n",
       "    }\n",
       "\n",
       "    .dataframe tbody tr th {\n",
       "        vertical-align: top;\n",
       "    }\n",
       "\n",
       "    .dataframe thead th {\n",
       "        text-align: right;\n",
       "    }\n",
       "</style>\n",
       "<table border=\"1\" class=\"dataframe\">\n",
       "  <thead>\n",
       "    <tr style=\"text-align: right;\">\n",
       "      <th></th>\n",
       "      <th>First Name</th>\n",
       "      <th>Last Name</th>\n",
       "      <th>Email</th>\n",
       "      <th>No. of orders Placed by user</th>\n",
       "    </tr>\n",
       "  </thead>\n",
       "  <tbody>\n",
       "  </tbody>\n",
       "</table>\n",
       "</div>"
      ],
      "text/plain": [
       "Empty DataFrame\n",
       "Columns: [First Name, Last Name, Email, No. of orders Placed by user]\n",
       "Index: []"
      ]
     },
     "execution_count": 31,
     "metadata": {},
     "output_type": "execute_result"
    }
   ],
   "source": [
    "order_placed_df[order_placed_df['No. of orders Placed by user'] >= 10]"
   ]
  },
  {
   "cell_type": "code",
   "execution_count": 32,
   "id": "f278b7df",
   "metadata": {},
   "outputs": [],
   "source": [
    "for i in range(len(order_placed_df.Email)):\n",
    "    res = hashlib.md5(order_placed_df.Email[i].encode())\n",
    "    order_placed_df['Email'][i] = res.hexdigest()"
   ]
  },
  {
   "cell_type": "code",
   "execution_count": 33,
   "id": "551aebed",
   "metadata": {},
   "outputs": [
    {
     "data": {
      "text/html": [
       "<div>\n",
       "<style scoped>\n",
       "    .dataframe tbody tr th:only-of-type {\n",
       "        vertical-align: middle;\n",
       "    }\n",
       "\n",
       "    .dataframe tbody tr th {\n",
       "        vertical-align: top;\n",
       "    }\n",
       "\n",
       "    .dataframe thead th {\n",
       "        text-align: right;\n",
       "    }\n",
       "</style>\n",
       "<table border=\"1\" class=\"dataframe\">\n",
       "  <thead>\n",
       "    <tr style=\"text-align: right;\">\n",
       "      <th></th>\n",
       "      <th>First Name</th>\n",
       "      <th>Last Name</th>\n",
       "      <th>Email</th>\n",
       "      <th>No. of orders Placed by user</th>\n",
       "    </tr>\n",
       "  </thead>\n",
       "  <tbody>\n",
       "    <tr>\n",
       "      <th>0</th>\n",
       "      <td>Thomas</td>\n",
       "      <td>Montgomery</td>\n",
       "      <td>2a011e8e05b91ce7c5fda8fb679506f1</td>\n",
       "      <td>8</td>\n",
       "    </tr>\n",
       "    <tr>\n",
       "      <th>1</th>\n",
       "      <td>Travis</td>\n",
       "      <td>Phelps</td>\n",
       "      <td>a750ecf95c82cc5ff2d2124339ed8884</td>\n",
       "      <td>7</td>\n",
       "    </tr>\n",
       "    <tr>\n",
       "      <th>2</th>\n",
       "      <td>Shelby</td>\n",
       "      <td>Osborn</td>\n",
       "      <td>8503336e0f3a2be920984c4f9c6db980</td>\n",
       "      <td>5</td>\n",
       "    </tr>\n",
       "    <tr>\n",
       "      <th>3</th>\n",
       "      <td>Joanna</td>\n",
       "      <td>Terry</td>\n",
       "      <td>f9477c84df3fa1addf8fb94a5bd41b6c</td>\n",
       "      <td>7</td>\n",
       "    </tr>\n",
       "    <tr>\n",
       "      <th>4</th>\n",
       "      <td>James</td>\n",
       "      <td>Washington</td>\n",
       "      <td>71a32f6bd1ba1407a89a7d42323391a0</td>\n",
       "      <td>8</td>\n",
       "    </tr>\n",
       "  </tbody>\n",
       "</table>\n",
       "</div>"
      ],
      "text/plain": [
       "  First Name   Last Name                             Email  \\\n",
       "0     Thomas  Montgomery  2a011e8e05b91ce7c5fda8fb679506f1   \n",
       "1     Travis      Phelps  a750ecf95c82cc5ff2d2124339ed8884   \n",
       "2     Shelby      Osborn  8503336e0f3a2be920984c4f9c6db980   \n",
       "3     Joanna       Terry  f9477c84df3fa1addf8fb94a5bd41b6c   \n",
       "4      James  Washington  71a32f6bd1ba1407a89a7d42323391a0   \n",
       "\n",
       "   No. of orders Placed by user  \n",
       "0                             8  \n",
       "1                             7  \n",
       "2                             5  \n",
       "3                             7  \n",
       "4                             8  "
      ]
     },
     "execution_count": 33,
     "metadata": {},
     "output_type": "execute_result"
    }
   ],
   "source": [
    "order_placed_df.head()"
   ]
  },
  {
   "cell_type": "code",
   "execution_count": 36,
   "id": "5715dff2",
   "metadata": {},
   "outputs": [],
   "source": [
    "order_placed_df.to_csv('Number of orders placed.xlsx',index=False)"
   ]
  },
  {
   "cell_type": "code",
   "execution_count": null,
   "id": "8fd9f072",
   "metadata": {},
   "outputs": [],
   "source": []
  }
 ],
 "metadata": {
  "kernelspec": {
   "display_name": "Python 3",
   "language": "python",
   "name": "python3"
  },
  "language_info": {
   "codemirror_mode": {
    "name": "ipython",
    "version": 3
   },
   "file_extension": ".py",
   "mimetype": "text/x-python",
   "name": "python",
   "nbconvert_exporter": "python",
   "pygments_lexer": "ipython3",
   "version": "3.8.8"
  }
 },
 "nbformat": 4,
 "nbformat_minor": 5
}
